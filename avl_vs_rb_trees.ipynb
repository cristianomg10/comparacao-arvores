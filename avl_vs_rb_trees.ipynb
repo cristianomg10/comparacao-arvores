{
 "cells": [
  {
   "cell_type": "code",
   "execution_count": 1,
   "metadata": {},
   "outputs": [],
   "source": [
    "import pandas as pd\n",
    "import numpy as np\n",
    "import plotly.express as px"
   ]
  },
  {
   "cell_type": "code",
   "execution_count": 2,
   "metadata": {},
   "outputs": [],
   "source": [
    "df = pd.read_csv(\n",
    "    \"https://raw.githubusercontent.com/cristianomg10/comparacao-arvores/master/resultados.csv\")\n",
    "df.head(2)\n",
    "df['operacao'] = df['operacao'].replace({'insercao':'inserção'})"
   ]
  },
  {
   "cell_type": "code",
   "execution_count": 3,
   "metadata": {},
   "outputs": [
    {
     "name": "stdout",
     "output_type": "stream",
     "text": [
      "\\begin{table}\n",
      "\\centering\n",
      "\\caption{Tempo do algoritmo, número de rotações e altura média de cada uma das árvores para as 3 operações}\n",
      "\\label{tab1}\n",
      "\\begin{tabular}{llrrr}\n",
      "\\toprule\n",
      "Operação & Algoritmo & Tempo & Rotações & Altura \\\\\n",
      "\\midrule\n",
      "   busca &       AVL &   0.7 &        - &      - \\\\\n",
      "   busca & Red Black &   1.1 &        - &      - \\\\\n",
      "exclusão &       AVL &   2.8 &  88836.3 &      - \\\\\n",
      "exclusão & Red Black &   1.4 &  93794.6 &      - \\\\\n",
      "inserção &       AVL &   3.9 & 155157.0 &   16.0 \\\\\n",
      "inserção & Red Black &   2.0 & 129368.4 &   17.2 \\\\\n",
      "\\bottomrule\n",
      "\\end{tabular}\n",
      "\\end{table}\n",
      "\n"
     ]
    },
    {
     "name": "stderr",
     "output_type": "stream",
     "text": [
      "/tmp/ipykernel_10085/1411889961.py:1: FutureWarning: In future versions `DataFrame.to_latex` is expected to utilise the base implementation of `Styler.to_latex` for formatting and rendering. The arguments signature may therefore change. It is recommended instead to use `DataFrame.style.to_latex` which also contains additional functionality.\n",
      "  print(df.groupby(['operacao', 'abordagem'], as_index=False).agg(\n"
     ]
    }
   ],
   "source": [
    "print(df.groupby(['operacao', 'abordagem'], as_index=False).agg(\n",
    "    {'tempo_gasto': 'mean', 'rotacoes': 'mean', 'altura': 'mean'}).\\\n",
    "    to_latex(na_rep='-', float_format='%.1f', caption = 'Tempo do algoritmo, número de rotações e altura média de cada uma das árvores para as 3 operações',\n",
    "    header = ['Operação', 'Algoritmo', 'Tempo', 'Rotações', 'Altura'], index = False, label = 'tab1'))"
   ]
  },
  {
   "cell_type": "code",
   "execution_count": 4,
   "metadata": {},
   "outputs": [
    {
     "data": {
      "text/html": [
       "<div>\n",
       "<style scoped>\n",
       "    .dataframe tbody tr th:only-of-type {\n",
       "        vertical-align: middle;\n",
       "    }\n",
       "\n",
       "    .dataframe tbody tr th {\n",
       "        vertical-align: top;\n",
       "    }\n",
       "\n",
       "    .dataframe thead th {\n",
       "        text-align: right;\n",
       "    }\n",
       "</style>\n",
       "<table border=\"1\" class=\"dataframe\">\n",
       "  <thead>\n",
       "    <tr style=\"text-align: right;\">\n",
       "      <th></th>\n",
       "      <th>execucao</th>\n",
       "      <th>N</th>\n",
       "      <th>Operação</th>\n",
       "      <th>Algoritmo</th>\n",
       "      <th>Tempo (s)</th>\n",
       "      <th>rotacoes</th>\n",
       "      <th>altura</th>\n",
       "    </tr>\n",
       "  </thead>\n",
       "  <tbody>\n",
       "    <tr>\n",
       "      <th>0</th>\n",
       "      <td>1</td>\n",
       "      <td>100</td>\n",
       "      <td>inserção</td>\n",
       "      <td>Red Black</td>\n",
       "      <td>0.0</td>\n",
       "      <td>56.0</td>\n",
       "      <td>9.0</td>\n",
       "    </tr>\n",
       "  </tbody>\n",
       "</table>\n",
       "</div>"
      ],
      "text/plain": [
       "   execucao    N  Operação  Algoritmo  Tempo (s)  rotacoes  altura\n",
       "0         1  100  inserção  Red Black        0.0      56.0     9.0"
      ]
     },
     "execution_count": 4,
     "metadata": {},
     "output_type": "execute_result"
    }
   ],
   "source": [
    "df.rename(columns={'num_dados':'N', 'operacao':'Operação', 'abordagem':'Algoritmo', 'tempo_gasto':'Tempo (s)'}, inplace=True)\n",
    "df.head(1)"
   ]
  },
  {
   "cell_type": "code",
   "execution_count": 5,
   "metadata": {},
   "outputs": [],
   "source": [
    "df['N '] = (df['N']/1000).astype('int').astype('str')+'K'"
   ]
  },
  {
   "cell_type": "code",
   "execution_count": 42,
   "metadata": {},
   "outputs": [
    {
     "data": {
      "text/html": [
       "<div>\n",
       "<style scoped>\n",
       "    .dataframe tbody tr th:only-of-type {\n",
       "        vertical-align: middle;\n",
       "    }\n",
       "\n",
       "    .dataframe tbody tr th {\n",
       "        vertical-align: top;\n",
       "    }\n",
       "\n",
       "    .dataframe thead th {\n",
       "        text-align: right;\n",
       "    }\n",
       "</style>\n",
       "<table border=\"1\" class=\"dataframe\">\n",
       "  <thead>\n",
       "    <tr style=\"text-align: right;\">\n",
       "      <th></th>\n",
       "      <th>execucao</th>\n",
       "      <th>N</th>\n",
       "      <th>Operação</th>\n",
       "      <th>Algoritmo</th>\n",
       "      <th>Tempo (s)</th>\n",
       "      <th>rotacoes</th>\n",
       "      <th>altura</th>\n",
       "      <th>N</th>\n",
       "    </tr>\n",
       "  </thead>\n",
       "  <tbody>\n",
       "    <tr>\n",
       "      <th>240</th>\n",
       "      <td>1</td>\n",
       "      <td>1000000</td>\n",
       "      <td>inserção</td>\n",
       "      <td>Red Black</td>\n",
       "      <td>9.617203</td>\n",
       "      <td>581953.0</td>\n",
       "      <td>25.0</td>\n",
       "      <td>1000K</td>\n",
       "    </tr>\n",
       "    <tr>\n",
       "      <th>241</th>\n",
       "      <td>1</td>\n",
       "      <td>1000000</td>\n",
       "      <td>inserção</td>\n",
       "      <td>AVL</td>\n",
       "      <td>18.307827</td>\n",
       "      <td>697231.0</td>\n",
       "      <td>24.0</td>\n",
       "      <td>1000K</td>\n",
       "    </tr>\n",
       "    <tr>\n",
       "      <th>242</th>\n",
       "      <td>1</td>\n",
       "      <td>1000000</td>\n",
       "      <td>busca</td>\n",
       "      <td>Red Black</td>\n",
       "      <td>5.240377</td>\n",
       "      <td>NaN</td>\n",
       "      <td>NaN</td>\n",
       "      <td>1000K</td>\n",
       "    </tr>\n",
       "    <tr>\n",
       "      <th>243</th>\n",
       "      <td>1</td>\n",
       "      <td>1000000</td>\n",
       "      <td>busca</td>\n",
       "      <td>AVL</td>\n",
       "      <td>3.399412</td>\n",
       "      <td>NaN</td>\n",
       "      <td>NaN</td>\n",
       "      <td>1000K</td>\n",
       "    </tr>\n",
       "    <tr>\n",
       "      <th>244</th>\n",
       "      <td>1</td>\n",
       "      <td>1000000</td>\n",
       "      <td>exclusão</td>\n",
       "      <td>Red Black</td>\n",
       "      <td>6.677294</td>\n",
       "      <td>421811.0</td>\n",
       "      <td>NaN</td>\n",
       "      <td>1000K</td>\n",
       "    </tr>\n",
       "    <tr>\n",
       "      <th>245</th>\n",
       "      <td>1</td>\n",
       "      <td>1000000</td>\n",
       "      <td>exclusão</td>\n",
       "      <td>AVL</td>\n",
       "      <td>13.189386</td>\n",
       "      <td>400463.0</td>\n",
       "      <td>NaN</td>\n",
       "      <td>1000K</td>\n",
       "    </tr>\n",
       "    <tr>\n",
       "      <th>246</th>\n",
       "      <td>2</td>\n",
       "      <td>1000000</td>\n",
       "      <td>inserção</td>\n",
       "      <td>Red Black</td>\n",
       "      <td>9.233481</td>\n",
       "      <td>582326.0</td>\n",
       "      <td>25.0</td>\n",
       "      <td>1000K</td>\n",
       "    </tr>\n",
       "    <tr>\n",
       "      <th>247</th>\n",
       "      <td>2</td>\n",
       "      <td>1000000</td>\n",
       "      <td>inserção</td>\n",
       "      <td>AVL</td>\n",
       "      <td>18.054520</td>\n",
       "      <td>697261.0</td>\n",
       "      <td>24.0</td>\n",
       "      <td>1000K</td>\n",
       "    </tr>\n",
       "    <tr>\n",
       "      <th>248</th>\n",
       "      <td>2</td>\n",
       "      <td>1000000</td>\n",
       "      <td>busca</td>\n",
       "      <td>Red Black</td>\n",
       "      <td>5.179446</td>\n",
       "      <td>NaN</td>\n",
       "      <td>NaN</td>\n",
       "      <td>1000K</td>\n",
       "    </tr>\n",
       "    <tr>\n",
       "      <th>249</th>\n",
       "      <td>2</td>\n",
       "      <td>1000000</td>\n",
       "      <td>busca</td>\n",
       "      <td>AVL</td>\n",
       "      <td>3.406713</td>\n",
       "      <td>NaN</td>\n",
       "      <td>NaN</td>\n",
       "      <td>1000K</td>\n",
       "    </tr>\n",
       "    <tr>\n",
       "      <th>250</th>\n",
       "      <td>2</td>\n",
       "      <td>1000000</td>\n",
       "      <td>exclusão</td>\n",
       "      <td>Red Black</td>\n",
       "      <td>6.634253</td>\n",
       "      <td>421928.0</td>\n",
       "      <td>NaN</td>\n",
       "      <td>1000K</td>\n",
       "    </tr>\n",
       "    <tr>\n",
       "      <th>251</th>\n",
       "      <td>2</td>\n",
       "      <td>1000000</td>\n",
       "      <td>exclusão</td>\n",
       "      <td>AVL</td>\n",
       "      <td>13.146012</td>\n",
       "      <td>400167.0</td>\n",
       "      <td>NaN</td>\n",
       "      <td>1000K</td>\n",
       "    </tr>\n",
       "    <tr>\n",
       "      <th>252</th>\n",
       "      <td>3</td>\n",
       "      <td>1000000</td>\n",
       "      <td>inserção</td>\n",
       "      <td>Red Black</td>\n",
       "      <td>9.236636</td>\n",
       "      <td>582204.0</td>\n",
       "      <td>26.0</td>\n",
       "      <td>1000K</td>\n",
       "    </tr>\n",
       "    <tr>\n",
       "      <th>253</th>\n",
       "      <td>3</td>\n",
       "      <td>1000000</td>\n",
       "      <td>inserção</td>\n",
       "      <td>AVL</td>\n",
       "      <td>18.140313</td>\n",
       "      <td>698539.0</td>\n",
       "      <td>24.0</td>\n",
       "      <td>1000K</td>\n",
       "    </tr>\n",
       "    <tr>\n",
       "      <th>254</th>\n",
       "      <td>3</td>\n",
       "      <td>1000000</td>\n",
       "      <td>busca</td>\n",
       "      <td>Red Black</td>\n",
       "      <td>5.073301</td>\n",
       "      <td>NaN</td>\n",
       "      <td>NaN</td>\n",
       "      <td>1000K</td>\n",
       "    </tr>\n",
       "    <tr>\n",
       "      <th>255</th>\n",
       "      <td>3</td>\n",
       "      <td>1000000</td>\n",
       "      <td>busca</td>\n",
       "      <td>AVL</td>\n",
       "      <td>3.411225</td>\n",
       "      <td>NaN</td>\n",
       "      <td>NaN</td>\n",
       "      <td>1000K</td>\n",
       "    </tr>\n",
       "    <tr>\n",
       "      <th>256</th>\n",
       "      <td>3</td>\n",
       "      <td>1000000</td>\n",
       "      <td>exclusão</td>\n",
       "      <td>Red Black</td>\n",
       "      <td>6.646013</td>\n",
       "      <td>422706.0</td>\n",
       "      <td>NaN</td>\n",
       "      <td>1000K</td>\n",
       "    </tr>\n",
       "    <tr>\n",
       "      <th>257</th>\n",
       "      <td>3</td>\n",
       "      <td>1000000</td>\n",
       "      <td>exclusão</td>\n",
       "      <td>AVL</td>\n",
       "      <td>13.163591</td>\n",
       "      <td>399347.0</td>\n",
       "      <td>NaN</td>\n",
       "      <td>1000K</td>\n",
       "    </tr>\n",
       "    <tr>\n",
       "      <th>258</th>\n",
       "      <td>4</td>\n",
       "      <td>1000000</td>\n",
       "      <td>inserção</td>\n",
       "      <td>Red Black</td>\n",
       "      <td>9.469389</td>\n",
       "      <td>581184.0</td>\n",
       "      <td>25.0</td>\n",
       "      <td>1000K</td>\n",
       "    </tr>\n",
       "    <tr>\n",
       "      <th>259</th>\n",
       "      <td>4</td>\n",
       "      <td>1000000</td>\n",
       "      <td>inserção</td>\n",
       "      <td>AVL</td>\n",
       "      <td>18.152788</td>\n",
       "      <td>697397.0</td>\n",
       "      <td>24.0</td>\n",
       "      <td>1000K</td>\n",
       "    </tr>\n",
       "    <tr>\n",
       "      <th>260</th>\n",
       "      <td>4</td>\n",
       "      <td>1000000</td>\n",
       "      <td>busca</td>\n",
       "      <td>Red Black</td>\n",
       "      <td>5.071454</td>\n",
       "      <td>NaN</td>\n",
       "      <td>NaN</td>\n",
       "      <td>1000K</td>\n",
       "    </tr>\n",
       "    <tr>\n",
       "      <th>261</th>\n",
       "      <td>4</td>\n",
       "      <td>1000000</td>\n",
       "      <td>busca</td>\n",
       "      <td>AVL</td>\n",
       "      <td>3.428922</td>\n",
       "      <td>NaN</td>\n",
       "      <td>NaN</td>\n",
       "      <td>1000K</td>\n",
       "    </tr>\n",
       "    <tr>\n",
       "      <th>262</th>\n",
       "      <td>4</td>\n",
       "      <td>1000000</td>\n",
       "      <td>exclusão</td>\n",
       "      <td>Red Black</td>\n",
       "      <td>6.689739</td>\n",
       "      <td>422846.0</td>\n",
       "      <td>NaN</td>\n",
       "      <td>1000K</td>\n",
       "    </tr>\n",
       "    <tr>\n",
       "      <th>263</th>\n",
       "      <td>4</td>\n",
       "      <td>1000000</td>\n",
       "      <td>exclusão</td>\n",
       "      <td>AVL</td>\n",
       "      <td>13.076005</td>\n",
       "      <td>400140.0</td>\n",
       "      <td>NaN</td>\n",
       "      <td>1000K</td>\n",
       "    </tr>\n",
       "    <tr>\n",
       "      <th>264</th>\n",
       "      <td>5</td>\n",
       "      <td>1000000</td>\n",
       "      <td>inserção</td>\n",
       "      <td>Red Black</td>\n",
       "      <td>9.238039</td>\n",
       "      <td>582661.0</td>\n",
       "      <td>25.0</td>\n",
       "      <td>1000K</td>\n",
       "    </tr>\n",
       "    <tr>\n",
       "      <th>265</th>\n",
       "      <td>5</td>\n",
       "      <td>1000000</td>\n",
       "      <td>inserção</td>\n",
       "      <td>AVL</td>\n",
       "      <td>18.055656</td>\n",
       "      <td>697891.0</td>\n",
       "      <td>24.0</td>\n",
       "      <td>1000K</td>\n",
       "    </tr>\n",
       "    <tr>\n",
       "      <th>266</th>\n",
       "      <td>5</td>\n",
       "      <td>1000000</td>\n",
       "      <td>busca</td>\n",
       "      <td>Red Black</td>\n",
       "      <td>5.044183</td>\n",
       "      <td>NaN</td>\n",
       "      <td>NaN</td>\n",
       "      <td>1000K</td>\n",
       "    </tr>\n",
       "    <tr>\n",
       "      <th>267</th>\n",
       "      <td>5</td>\n",
       "      <td>1000000</td>\n",
       "      <td>busca</td>\n",
       "      <td>AVL</td>\n",
       "      <td>3.401403</td>\n",
       "      <td>NaN</td>\n",
       "      <td>NaN</td>\n",
       "      <td>1000K</td>\n",
       "    </tr>\n",
       "    <tr>\n",
       "      <th>268</th>\n",
       "      <td>5</td>\n",
       "      <td>1000000</td>\n",
       "      <td>exclusão</td>\n",
       "      <td>Red Black</td>\n",
       "      <td>6.520324</td>\n",
       "      <td>421182.0</td>\n",
       "      <td>NaN</td>\n",
       "      <td>1000K</td>\n",
       "    </tr>\n",
       "    <tr>\n",
       "      <th>269</th>\n",
       "      <td>5</td>\n",
       "      <td>1000000</td>\n",
       "      <td>exclusão</td>\n",
       "      <td>AVL</td>\n",
       "      <td>13.120135</td>\n",
       "      <td>400369.0</td>\n",
       "      <td>NaN</td>\n",
       "      <td>1000K</td>\n",
       "    </tr>\n",
       "    <tr>\n",
       "      <th>270</th>\n",
       "      <td>6</td>\n",
       "      <td>1000000</td>\n",
       "      <td>inserção</td>\n",
       "      <td>Red Black</td>\n",
       "      <td>9.431623</td>\n",
       "      <td>583014.0</td>\n",
       "      <td>26.0</td>\n",
       "      <td>1000K</td>\n",
       "    </tr>\n",
       "    <tr>\n",
       "      <th>271</th>\n",
       "      <td>6</td>\n",
       "      <td>1000000</td>\n",
       "      <td>inserção</td>\n",
       "      <td>AVL</td>\n",
       "      <td>18.289788</td>\n",
       "      <td>698563.0</td>\n",
       "      <td>24.0</td>\n",
       "      <td>1000K</td>\n",
       "    </tr>\n",
       "    <tr>\n",
       "      <th>272</th>\n",
       "      <td>6</td>\n",
       "      <td>1000000</td>\n",
       "      <td>busca</td>\n",
       "      <td>Red Black</td>\n",
       "      <td>5.107397</td>\n",
       "      <td>NaN</td>\n",
       "      <td>NaN</td>\n",
       "      <td>1000K</td>\n",
       "    </tr>\n",
       "    <tr>\n",
       "      <th>273</th>\n",
       "      <td>6</td>\n",
       "      <td>1000000</td>\n",
       "      <td>busca</td>\n",
       "      <td>AVL</td>\n",
       "      <td>3.382462</td>\n",
       "      <td>NaN</td>\n",
       "      <td>NaN</td>\n",
       "      <td>1000K</td>\n",
       "    </tr>\n",
       "    <tr>\n",
       "      <th>274</th>\n",
       "      <td>6</td>\n",
       "      <td>1000000</td>\n",
       "      <td>exclusão</td>\n",
       "      <td>Red Black</td>\n",
       "      <td>6.556468</td>\n",
       "      <td>420971.0</td>\n",
       "      <td>NaN</td>\n",
       "      <td>1000K</td>\n",
       "    </tr>\n",
       "    <tr>\n",
       "      <th>275</th>\n",
       "      <td>6</td>\n",
       "      <td>1000000</td>\n",
       "      <td>exclusão</td>\n",
       "      <td>AVL</td>\n",
       "      <td>13.152541</td>\n",
       "      <td>399639.0</td>\n",
       "      <td>NaN</td>\n",
       "      <td>1000K</td>\n",
       "    </tr>\n",
       "    <tr>\n",
       "      <th>276</th>\n",
       "      <td>7</td>\n",
       "      <td>1000000</td>\n",
       "      <td>inserção</td>\n",
       "      <td>Red Black</td>\n",
       "      <td>9.344792</td>\n",
       "      <td>581708.0</td>\n",
       "      <td>25.0</td>\n",
       "      <td>1000K</td>\n",
       "    </tr>\n",
       "    <tr>\n",
       "      <th>277</th>\n",
       "      <td>7</td>\n",
       "      <td>1000000</td>\n",
       "      <td>inserção</td>\n",
       "      <td>AVL</td>\n",
       "      <td>18.127104</td>\n",
       "      <td>699029.0</td>\n",
       "      <td>24.0</td>\n",
       "      <td>1000K</td>\n",
       "    </tr>\n",
       "    <tr>\n",
       "      <th>278</th>\n",
       "      <td>7</td>\n",
       "      <td>1000000</td>\n",
       "      <td>busca</td>\n",
       "      <td>Red Black</td>\n",
       "      <td>5.030730</td>\n",
       "      <td>NaN</td>\n",
       "      <td>NaN</td>\n",
       "      <td>1000K</td>\n",
       "    </tr>\n",
       "    <tr>\n",
       "      <th>279</th>\n",
       "      <td>7</td>\n",
       "      <td>1000000</td>\n",
       "      <td>busca</td>\n",
       "      <td>AVL</td>\n",
       "      <td>3.379031</td>\n",
       "      <td>NaN</td>\n",
       "      <td>NaN</td>\n",
       "      <td>1000K</td>\n",
       "    </tr>\n",
       "    <tr>\n",
       "      <th>280</th>\n",
       "      <td>7</td>\n",
       "      <td>1000000</td>\n",
       "      <td>exclusão</td>\n",
       "      <td>Red Black</td>\n",
       "      <td>6.505197</td>\n",
       "      <td>421904.0</td>\n",
       "      <td>NaN</td>\n",
       "      <td>1000K</td>\n",
       "    </tr>\n",
       "    <tr>\n",
       "      <th>281</th>\n",
       "      <td>7</td>\n",
       "      <td>1000000</td>\n",
       "      <td>exclusão</td>\n",
       "      <td>AVL</td>\n",
       "      <td>13.132023</td>\n",
       "      <td>399860.0</td>\n",
       "      <td>NaN</td>\n",
       "      <td>1000K</td>\n",
       "    </tr>\n",
       "    <tr>\n",
       "      <th>282</th>\n",
       "      <td>8</td>\n",
       "      <td>1000000</td>\n",
       "      <td>inserção</td>\n",
       "      <td>Red Black</td>\n",
       "      <td>9.309689</td>\n",
       "      <td>582694.0</td>\n",
       "      <td>25.0</td>\n",
       "      <td>1000K</td>\n",
       "    </tr>\n",
       "    <tr>\n",
       "      <th>283</th>\n",
       "      <td>8</td>\n",
       "      <td>1000000</td>\n",
       "      <td>inserção</td>\n",
       "      <td>AVL</td>\n",
       "      <td>18.166434</td>\n",
       "      <td>698662.0</td>\n",
       "      <td>24.0</td>\n",
       "      <td>1000K</td>\n",
       "    </tr>\n",
       "    <tr>\n",
       "      <th>284</th>\n",
       "      <td>8</td>\n",
       "      <td>1000000</td>\n",
       "      <td>busca</td>\n",
       "      <td>Red Black</td>\n",
       "      <td>5.008299</td>\n",
       "      <td>NaN</td>\n",
       "      <td>NaN</td>\n",
       "      <td>1000K</td>\n",
       "    </tr>\n",
       "    <tr>\n",
       "      <th>285</th>\n",
       "      <td>8</td>\n",
       "      <td>1000000</td>\n",
       "      <td>busca</td>\n",
       "      <td>AVL</td>\n",
       "      <td>3.385803</td>\n",
       "      <td>NaN</td>\n",
       "      <td>NaN</td>\n",
       "      <td>1000K</td>\n",
       "    </tr>\n",
       "    <tr>\n",
       "      <th>286</th>\n",
       "      <td>8</td>\n",
       "      <td>1000000</td>\n",
       "      <td>exclusão</td>\n",
       "      <td>Red Black</td>\n",
       "      <td>6.666842</td>\n",
       "      <td>423194.0</td>\n",
       "      <td>NaN</td>\n",
       "      <td>1000K</td>\n",
       "    </tr>\n",
       "    <tr>\n",
       "      <th>287</th>\n",
       "      <td>8</td>\n",
       "      <td>1000000</td>\n",
       "      <td>exclusão</td>\n",
       "      <td>AVL</td>\n",
       "      <td>13.202125</td>\n",
       "      <td>399226.0</td>\n",
       "      <td>NaN</td>\n",
       "      <td>1000K</td>\n",
       "    </tr>\n",
       "    <tr>\n",
       "      <th>288</th>\n",
       "      <td>9</td>\n",
       "      <td>1000000</td>\n",
       "      <td>inserção</td>\n",
       "      <td>Red Black</td>\n",
       "      <td>9.322327</td>\n",
       "      <td>582447.0</td>\n",
       "      <td>25.0</td>\n",
       "      <td>1000K</td>\n",
       "    </tr>\n",
       "    <tr>\n",
       "      <th>289</th>\n",
       "      <td>9</td>\n",
       "      <td>1000000</td>\n",
       "      <td>inserção</td>\n",
       "      <td>AVL</td>\n",
       "      <td>18.204496</td>\n",
       "      <td>698930.0</td>\n",
       "      <td>24.0</td>\n",
       "      <td>1000K</td>\n",
       "    </tr>\n",
       "    <tr>\n",
       "      <th>290</th>\n",
       "      <td>9</td>\n",
       "      <td>1000000</td>\n",
       "      <td>busca</td>\n",
       "      <td>Red Black</td>\n",
       "      <td>4.982367</td>\n",
       "      <td>NaN</td>\n",
       "      <td>NaN</td>\n",
       "      <td>1000K</td>\n",
       "    </tr>\n",
       "    <tr>\n",
       "      <th>291</th>\n",
       "      <td>9</td>\n",
       "      <td>1000000</td>\n",
       "      <td>busca</td>\n",
       "      <td>AVL</td>\n",
       "      <td>3.387779</td>\n",
       "      <td>NaN</td>\n",
       "      <td>NaN</td>\n",
       "      <td>1000K</td>\n",
       "    </tr>\n",
       "    <tr>\n",
       "      <th>292</th>\n",
       "      <td>9</td>\n",
       "      <td>1000000</td>\n",
       "      <td>exclusão</td>\n",
       "      <td>Red Black</td>\n",
       "      <td>6.424771</td>\n",
       "      <td>421414.0</td>\n",
       "      <td>NaN</td>\n",
       "      <td>1000K</td>\n",
       "    </tr>\n",
       "    <tr>\n",
       "      <th>293</th>\n",
       "      <td>9</td>\n",
       "      <td>1000000</td>\n",
       "      <td>exclusão</td>\n",
       "      <td>AVL</td>\n",
       "      <td>13.116504</td>\n",
       "      <td>399198.0</td>\n",
       "      <td>NaN</td>\n",
       "      <td>1000K</td>\n",
       "    </tr>\n",
       "    <tr>\n",
       "      <th>294</th>\n",
       "      <td>10</td>\n",
       "      <td>1000000</td>\n",
       "      <td>inserção</td>\n",
       "      <td>Red Black</td>\n",
       "      <td>9.333819</td>\n",
       "      <td>582491.0</td>\n",
       "      <td>25.0</td>\n",
       "      <td>1000K</td>\n",
       "    </tr>\n",
       "    <tr>\n",
       "      <th>295</th>\n",
       "      <td>10</td>\n",
       "      <td>1000000</td>\n",
       "      <td>inserção</td>\n",
       "      <td>AVL</td>\n",
       "      <td>18.124057</td>\n",
       "      <td>699423.0</td>\n",
       "      <td>24.0</td>\n",
       "      <td>1000K</td>\n",
       "    </tr>\n",
       "    <tr>\n",
       "      <th>296</th>\n",
       "      <td>10</td>\n",
       "      <td>1000000</td>\n",
       "      <td>busca</td>\n",
       "      <td>Red Black</td>\n",
       "      <td>5.119812</td>\n",
       "      <td>NaN</td>\n",
       "      <td>NaN</td>\n",
       "      <td>1000K</td>\n",
       "    </tr>\n",
       "    <tr>\n",
       "      <th>297</th>\n",
       "      <td>10</td>\n",
       "      <td>1000000</td>\n",
       "      <td>busca</td>\n",
       "      <td>AVL</td>\n",
       "      <td>3.389740</td>\n",
       "      <td>NaN</td>\n",
       "      <td>NaN</td>\n",
       "      <td>1000K</td>\n",
       "    </tr>\n",
       "    <tr>\n",
       "      <th>298</th>\n",
       "      <td>10</td>\n",
       "      <td>1000000</td>\n",
       "      <td>exclusão</td>\n",
       "      <td>Red Black</td>\n",
       "      <td>6.491976</td>\n",
       "      <td>422505.0</td>\n",
       "      <td>NaN</td>\n",
       "      <td>1000K</td>\n",
       "    </tr>\n",
       "    <tr>\n",
       "      <th>299</th>\n",
       "      <td>10</td>\n",
       "      <td>1000000</td>\n",
       "      <td>exclusão</td>\n",
       "      <td>AVL</td>\n",
       "      <td>13.100084</td>\n",
       "      <td>399489.0</td>\n",
       "      <td>NaN</td>\n",
       "      <td>1000K</td>\n",
       "    </tr>\n",
       "  </tbody>\n",
       "</table>\n",
       "</div>"
      ],
      "text/plain": [
       "     execucao        N  Operação  Algoritmo  Tempo (s)  rotacoes  altura  \\\n",
       "240         1  1000000  inserção  Red Black   9.617203  581953.0    25.0   \n",
       "241         1  1000000  inserção        AVL  18.307827  697231.0    24.0   \n",
       "242         1  1000000     busca  Red Black   5.240377       NaN     NaN   \n",
       "243         1  1000000     busca        AVL   3.399412       NaN     NaN   \n",
       "244         1  1000000  exclusão  Red Black   6.677294  421811.0     NaN   \n",
       "245         1  1000000  exclusão        AVL  13.189386  400463.0     NaN   \n",
       "246         2  1000000  inserção  Red Black   9.233481  582326.0    25.0   \n",
       "247         2  1000000  inserção        AVL  18.054520  697261.0    24.0   \n",
       "248         2  1000000     busca  Red Black   5.179446       NaN     NaN   \n",
       "249         2  1000000     busca        AVL   3.406713       NaN     NaN   \n",
       "250         2  1000000  exclusão  Red Black   6.634253  421928.0     NaN   \n",
       "251         2  1000000  exclusão        AVL  13.146012  400167.0     NaN   \n",
       "252         3  1000000  inserção  Red Black   9.236636  582204.0    26.0   \n",
       "253         3  1000000  inserção        AVL  18.140313  698539.0    24.0   \n",
       "254         3  1000000     busca  Red Black   5.073301       NaN     NaN   \n",
       "255         3  1000000     busca        AVL   3.411225       NaN     NaN   \n",
       "256         3  1000000  exclusão  Red Black   6.646013  422706.0     NaN   \n",
       "257         3  1000000  exclusão        AVL  13.163591  399347.0     NaN   \n",
       "258         4  1000000  inserção  Red Black   9.469389  581184.0    25.0   \n",
       "259         4  1000000  inserção        AVL  18.152788  697397.0    24.0   \n",
       "260         4  1000000     busca  Red Black   5.071454       NaN     NaN   \n",
       "261         4  1000000     busca        AVL   3.428922       NaN     NaN   \n",
       "262         4  1000000  exclusão  Red Black   6.689739  422846.0     NaN   \n",
       "263         4  1000000  exclusão        AVL  13.076005  400140.0     NaN   \n",
       "264         5  1000000  inserção  Red Black   9.238039  582661.0    25.0   \n",
       "265         5  1000000  inserção        AVL  18.055656  697891.0    24.0   \n",
       "266         5  1000000     busca  Red Black   5.044183       NaN     NaN   \n",
       "267         5  1000000     busca        AVL   3.401403       NaN     NaN   \n",
       "268         5  1000000  exclusão  Red Black   6.520324  421182.0     NaN   \n",
       "269         5  1000000  exclusão        AVL  13.120135  400369.0     NaN   \n",
       "270         6  1000000  inserção  Red Black   9.431623  583014.0    26.0   \n",
       "271         6  1000000  inserção        AVL  18.289788  698563.0    24.0   \n",
       "272         6  1000000     busca  Red Black   5.107397       NaN     NaN   \n",
       "273         6  1000000     busca        AVL   3.382462       NaN     NaN   \n",
       "274         6  1000000  exclusão  Red Black   6.556468  420971.0     NaN   \n",
       "275         6  1000000  exclusão        AVL  13.152541  399639.0     NaN   \n",
       "276         7  1000000  inserção  Red Black   9.344792  581708.0    25.0   \n",
       "277         7  1000000  inserção        AVL  18.127104  699029.0    24.0   \n",
       "278         7  1000000     busca  Red Black   5.030730       NaN     NaN   \n",
       "279         7  1000000     busca        AVL   3.379031       NaN     NaN   \n",
       "280         7  1000000  exclusão  Red Black   6.505197  421904.0     NaN   \n",
       "281         7  1000000  exclusão        AVL  13.132023  399860.0     NaN   \n",
       "282         8  1000000  inserção  Red Black   9.309689  582694.0    25.0   \n",
       "283         8  1000000  inserção        AVL  18.166434  698662.0    24.0   \n",
       "284         8  1000000     busca  Red Black   5.008299       NaN     NaN   \n",
       "285         8  1000000     busca        AVL   3.385803       NaN     NaN   \n",
       "286         8  1000000  exclusão  Red Black   6.666842  423194.0     NaN   \n",
       "287         8  1000000  exclusão        AVL  13.202125  399226.0     NaN   \n",
       "288         9  1000000  inserção  Red Black   9.322327  582447.0    25.0   \n",
       "289         9  1000000  inserção        AVL  18.204496  698930.0    24.0   \n",
       "290         9  1000000     busca  Red Black   4.982367       NaN     NaN   \n",
       "291         9  1000000     busca        AVL   3.387779       NaN     NaN   \n",
       "292         9  1000000  exclusão  Red Black   6.424771  421414.0     NaN   \n",
       "293         9  1000000  exclusão        AVL  13.116504  399198.0     NaN   \n",
       "294        10  1000000  inserção  Red Black   9.333819  582491.0    25.0   \n",
       "295        10  1000000  inserção        AVL  18.124057  699423.0    24.0   \n",
       "296        10  1000000     busca  Red Black   5.119812       NaN     NaN   \n",
       "297        10  1000000     busca        AVL   3.389740       NaN     NaN   \n",
       "298        10  1000000  exclusão  Red Black   6.491976  422505.0     NaN   \n",
       "299        10  1000000  exclusão        AVL  13.100084  399489.0     NaN   \n",
       "\n",
       "        N   \n",
       "240  1000K  \n",
       "241  1000K  \n",
       "242  1000K  \n",
       "243  1000K  \n",
       "244  1000K  \n",
       "245  1000K  \n",
       "246  1000K  \n",
       "247  1000K  \n",
       "248  1000K  \n",
       "249  1000K  \n",
       "250  1000K  \n",
       "251  1000K  \n",
       "252  1000K  \n",
       "253  1000K  \n",
       "254  1000K  \n",
       "255  1000K  \n",
       "256  1000K  \n",
       "257  1000K  \n",
       "258  1000K  \n",
       "259  1000K  \n",
       "260  1000K  \n",
       "261  1000K  \n",
       "262  1000K  \n",
       "263  1000K  \n",
       "264  1000K  \n",
       "265  1000K  \n",
       "266  1000K  \n",
       "267  1000K  \n",
       "268  1000K  \n",
       "269  1000K  \n",
       "270  1000K  \n",
       "271  1000K  \n",
       "272  1000K  \n",
       "273  1000K  \n",
       "274  1000K  \n",
       "275  1000K  \n",
       "276  1000K  \n",
       "277  1000K  \n",
       "278  1000K  \n",
       "279  1000K  \n",
       "280  1000K  \n",
       "281  1000K  \n",
       "282  1000K  \n",
       "283  1000K  \n",
       "284  1000K  \n",
       "285  1000K  \n",
       "286  1000K  \n",
       "287  1000K  \n",
       "288  1000K  \n",
       "289  1000K  \n",
       "290  1000K  \n",
       "291  1000K  \n",
       "292  1000K  \n",
       "293  1000K  \n",
       "294  1000K  \n",
       "295  1000K  \n",
       "296  1000K  \n",
       "297  1000K  \n",
       "298  1000K  \n",
       "299  1000K  "
      ]
     },
     "execution_count": 42,
     "metadata": {},
     "output_type": "execute_result"
    }
   ],
   "source": [
    "df[df['N']==1000000]\n"
   ]
  },
  {
   "cell_type": "code",
   "execution_count": 38,
   "metadata": {},
   "outputs": [],
   "source": [
    "def graph_line(df, vcolor=None, facet_col=None, x=None, y=None,\n",
    "               Pandemia=False, Filter=True, height=None, row_spacing=None, colors=None, ano0=None, ano1=None, legend=True, theme='plotly_white'):\n",
    "  if (colors is None):\n",
    "    colors = px.colors.qualitative.G10\n",
    "  fig = px.line(df,\n",
    "                x=x,\n",
    "                y=y,\n",
    "                facet_col=facet_col,\n",
    "                color=vcolor,\n",
    "                color_discrete_sequence=colors,\n",
    "                facet_col_wrap=2,\n",
    "                facet_row_spacing=row_spacing,\n",
    "                facet_col_spacing=0.04,\n",
    "                template=theme)\n",
    "  fig.update_yaxes(matches=None,       # Different y axis\n",
    "                   showticklabels=True,  # Show y axis for each facet\n",
    "                   title=dict(text='')  # Exclude y label\n",
    "                   )\n",
    "  fig.update_xaxes(matches=None,\n",
    "                   showticklabels=True)  # Show x axis for each facet)\n",
    "  fig.update_traces(mode=\"markers+lines\")  # Mostrar os pontos e as linhas\n",
    "  fig.for_each_annotation(lambda a: a.update(text=a.text.split(\"=\")[-1]))\n",
    "  # Configura a legenda and layout of chart\n",
    "  fig.update_layout(height=height,\n",
    "                    legend=dict(\n",
    "                        orientation=\"h\",\n",
    "                        yanchor=\"bottom\",\n",
    "                        y=-0.2,\n",
    "                        xanchor=\"right\",\n",
    "                        x=1,\n",
    "                        title=''),\n",
    "                    yaxis1=dict(title=y),\n",
    "                    font = dict(size = 18))\n",
    "  # Removes it\n",
    "  fig.update_layout(showlegend=legend)\n",
    "\n",
    "  # Pandemia\n",
    "  if (ano0 is not None):\n",
    "    fig.add_vrect(x0=ano0, x1=ano1,\n",
    "                  annotation_text=\"2021\", annotation_position=\"top left\",\n",
    "                  fillcolor=\"green\", opacity=0.25, line_width=0)\n",
    "\n",
    "  fig.write_image(\"time_performance.pdf\", width = 1300, height = 600)\n",
    "\n",
    "  return fig.show()"
   ]
  },
  {
   "cell_type": "code",
   "execution_count": 39,
   "metadata": {},
   "outputs": [
    {
     "data": {
      "application/vnd.plotly.v1+json": {
       "config": {
        "plotlyServerURL": "https://plot.ly"
       },
       "data": [
        {
         "hovertemplate": "Algoritmo=AVL<br>Operação=busca<br>N=%{x}<br>Tempo (s)=%{y}<extra></extra>",
         "legendgroup": "AVL",
         "line": {
          "color": "#3366CC",
          "dash": "solid"
         },
         "marker": {
          "symbol": "circle"
         },
         "mode": "markers+lines",
         "name": "AVL",
         "orientation": "v",
         "showlegend": true,
         "type": "scatter",
         "x": [
          100,
          1000,
          10000,
          100000,
          1000000
         ],
         "xaxis": "x3",
         "y": [
          0.0007167339325,
          0.0017544031142999999,
          0.0208553791046,
          0.22526743412009997,
          3.3972490549088
         ],
         "yaxis": "y3"
        },
        {
         "hovertemplate": "Algoritmo=AVL<br>Operação=exclusão<br>N=%{x}<br>Tempo (s)=%{y}<extra></extra>",
         "legendgroup": "AVL",
         "line": {
          "color": "#3366CC",
          "dash": "solid"
         },
         "marker": {
          "symbol": "circle"
         },
         "mode": "markers+lines",
         "name": "AVL",
         "orientation": "v",
         "showlegend": false,
         "type": "scatter",
         "x": [
          100,
          1000,
          10000,
          100000,
          1000000
         ],
         "xaxis": "x4",
         "y": [
          0.0020363569260000002,
          0.0108407258987,
          0.0777674913406,
          0.9361383199691,
          13.139840579033
         ],
         "yaxis": "y4"
        },
        {
         "hovertemplate": "Algoritmo=AVL<br>Operação=inserção<br>N=%{x}<br>Tempo (s)=%{y}<extra></extra>",
         "legendgroup": "AVL",
         "line": {
          "color": "#3366CC",
          "dash": "solid"
         },
         "marker": {
          "symbol": "circle"
         },
         "mode": "markers+lines",
         "name": "AVL",
         "orientation": "v",
         "showlegend": false,
         "type": "scatter",
         "x": [
          100,
          1000,
          10000,
          100000,
          1000000
         ],
         "xaxis": "x",
         "y": [
          0.00046639442440000003,
          0.0137286424637,
          0.0856706142425,
          1.1524940252303,
          18.162298250198397
         ],
         "yaxis": "y"
        },
        {
         "hovertemplate": "Algoritmo=Red Black<br>Operação=busca<br>N=%{x}<br>Tempo (s)=%{y}<extra></extra>",
         "legendgroup": "Red Black",
         "line": {
          "color": "#DC3912",
          "dash": "solid"
         },
         "marker": {
          "symbol": "circle"
         },
         "mode": "markers+lines",
         "name": "Red Black",
         "orientation": "v",
         "showlegend": true,
         "type": "scatter",
         "x": [
          100,
          1000,
          10000,
          100000,
          1000000
         ],
         "xaxis": "x3",
         "y": [
          0,
          0.0043209552763,
          0.0302040576937,
          0.30194888114929996,
          5.0857364892959
         ],
         "yaxis": "y3"
        },
        {
         "hovertemplate": "Algoritmo=Red Black<br>Operação=exclusão<br>N=%{x}<br>Tempo (s)=%{y}<extra></extra>",
         "legendgroup": "Red Black",
         "line": {
          "color": "#DC3912",
          "dash": "solid"
         },
         "marker": {
          "symbol": "circle"
         },
         "mode": "markers+lines",
         "name": "Red Black",
         "orientation": "v",
         "showlegend": false,
         "type": "scatter",
         "x": [
          100,
          1000,
          10000,
          100000,
          1000000
         ],
         "xaxis": "x4",
         "y": [
          0.0016155481338000002,
          0.0074247360229,
          0.040129995346,
          0.3989834308624,
          6.5812877178193006
         ],
         "yaxis": "y4"
        },
        {
         "hovertemplate": "Algoritmo=Red Black<br>Operação=inserção<br>N=%{x}<br>Tempo (s)=%{y}<extra></extra>",
         "legendgroup": "Red Black",
         "line": {
          "color": "#DC3912",
          "dash": "solid"
         },
         "marker": {
          "symbol": "circle"
         },
         "mode": "markers+lines",
         "name": "Red Black",
         "orientation": "v",
         "showlegend": false,
         "type": "scatter",
         "x": [
          100,
          1000,
          10000,
          100000,
          1000000
         ],
         "xaxis": "x",
         "y": [
          0,
          0.0057023048402,
          0.0367085218431,
          0.42373790740960005,
          9.3536997795104
         ],
         "yaxis": "y"
        }
       ],
       "layout": {
        "annotations": [
         {
          "font": {},
          "showarrow": false,
          "text": "inserção",
          "x": 0.24,
          "xanchor": "center",
          "xref": "paper",
          "y": 0.425,
          "yanchor": "bottom",
          "yref": "paper"
         },
         {
          "font": {},
          "showarrow": false,
          "text": "busca",
          "x": 0.24,
          "xanchor": "center",
          "xref": "paper",
          "y": 1,
          "yanchor": "bottom",
          "yref": "paper"
         },
         {
          "font": {},
          "showarrow": false,
          "text": "exclusão",
          "x": 0.76,
          "xanchor": "center",
          "xref": "paper",
          "y": 1,
          "yanchor": "bottom",
          "yref": "paper"
         }
        ],
        "font": {
         "size": 18
        },
        "legend": {
         "orientation": "h",
         "title": {
          "text": ""
         },
         "tracegroupgap": 0,
         "x": 1,
         "xanchor": "right",
         "y": -0.2,
         "yanchor": "bottom"
        },
        "margin": {
         "t": 60
        },
        "showlegend": true,
        "template": {
         "data": {
          "bar": [
           {
            "error_x": {
             "color": "#2a3f5f"
            },
            "error_y": {
             "color": "#2a3f5f"
            },
            "marker": {
             "line": {
              "color": "white",
              "width": 0.5
             },
             "pattern": {
              "fillmode": "overlay",
              "size": 10,
              "solidity": 0.2
             }
            },
            "type": "bar"
           }
          ],
          "barpolar": [
           {
            "marker": {
             "line": {
              "color": "white",
              "width": 0.5
             },
             "pattern": {
              "fillmode": "overlay",
              "size": 10,
              "solidity": 0.2
             }
            },
            "type": "barpolar"
           }
          ],
          "carpet": [
           {
            "aaxis": {
             "endlinecolor": "#2a3f5f",
             "gridcolor": "#C8D4E3",
             "linecolor": "#C8D4E3",
             "minorgridcolor": "#C8D4E3",
             "startlinecolor": "#2a3f5f"
            },
            "baxis": {
             "endlinecolor": "#2a3f5f",
             "gridcolor": "#C8D4E3",
             "linecolor": "#C8D4E3",
             "minorgridcolor": "#C8D4E3",
             "startlinecolor": "#2a3f5f"
            },
            "type": "carpet"
           }
          ],
          "choropleth": [
           {
            "colorbar": {
             "outlinewidth": 0,
             "ticks": ""
            },
            "type": "choropleth"
           }
          ],
          "contour": [
           {
            "colorbar": {
             "outlinewidth": 0,
             "ticks": ""
            },
            "colorscale": [
             [
              0,
              "#0d0887"
             ],
             [
              0.1111111111111111,
              "#46039f"
             ],
             [
              0.2222222222222222,
              "#7201a8"
             ],
             [
              0.3333333333333333,
              "#9c179e"
             ],
             [
              0.4444444444444444,
              "#bd3786"
             ],
             [
              0.5555555555555556,
              "#d8576b"
             ],
             [
              0.6666666666666666,
              "#ed7953"
             ],
             [
              0.7777777777777778,
              "#fb9f3a"
             ],
             [
              0.8888888888888888,
              "#fdca26"
             ],
             [
              1,
              "#f0f921"
             ]
            ],
            "type": "contour"
           }
          ],
          "contourcarpet": [
           {
            "colorbar": {
             "outlinewidth": 0,
             "ticks": ""
            },
            "type": "contourcarpet"
           }
          ],
          "heatmap": [
           {
            "colorbar": {
             "outlinewidth": 0,
             "ticks": ""
            },
            "colorscale": [
             [
              0,
              "#0d0887"
             ],
             [
              0.1111111111111111,
              "#46039f"
             ],
             [
              0.2222222222222222,
              "#7201a8"
             ],
             [
              0.3333333333333333,
              "#9c179e"
             ],
             [
              0.4444444444444444,
              "#bd3786"
             ],
             [
              0.5555555555555556,
              "#d8576b"
             ],
             [
              0.6666666666666666,
              "#ed7953"
             ],
             [
              0.7777777777777778,
              "#fb9f3a"
             ],
             [
              0.8888888888888888,
              "#fdca26"
             ],
             [
              1,
              "#f0f921"
             ]
            ],
            "type": "heatmap"
           }
          ],
          "heatmapgl": [
           {
            "colorbar": {
             "outlinewidth": 0,
             "ticks": ""
            },
            "colorscale": [
             [
              0,
              "#0d0887"
             ],
             [
              0.1111111111111111,
              "#46039f"
             ],
             [
              0.2222222222222222,
              "#7201a8"
             ],
             [
              0.3333333333333333,
              "#9c179e"
             ],
             [
              0.4444444444444444,
              "#bd3786"
             ],
             [
              0.5555555555555556,
              "#d8576b"
             ],
             [
              0.6666666666666666,
              "#ed7953"
             ],
             [
              0.7777777777777778,
              "#fb9f3a"
             ],
             [
              0.8888888888888888,
              "#fdca26"
             ],
             [
              1,
              "#f0f921"
             ]
            ],
            "type": "heatmapgl"
           }
          ],
          "histogram": [
           {
            "marker": {
             "pattern": {
              "fillmode": "overlay",
              "size": 10,
              "solidity": 0.2
             }
            },
            "type": "histogram"
           }
          ],
          "histogram2d": [
           {
            "colorbar": {
             "outlinewidth": 0,
             "ticks": ""
            },
            "colorscale": [
             [
              0,
              "#0d0887"
             ],
             [
              0.1111111111111111,
              "#46039f"
             ],
             [
              0.2222222222222222,
              "#7201a8"
             ],
             [
              0.3333333333333333,
              "#9c179e"
             ],
             [
              0.4444444444444444,
              "#bd3786"
             ],
             [
              0.5555555555555556,
              "#d8576b"
             ],
             [
              0.6666666666666666,
              "#ed7953"
             ],
             [
              0.7777777777777778,
              "#fb9f3a"
             ],
             [
              0.8888888888888888,
              "#fdca26"
             ],
             [
              1,
              "#f0f921"
             ]
            ],
            "type": "histogram2d"
           }
          ],
          "histogram2dcontour": [
           {
            "colorbar": {
             "outlinewidth": 0,
             "ticks": ""
            },
            "colorscale": [
             [
              0,
              "#0d0887"
             ],
             [
              0.1111111111111111,
              "#46039f"
             ],
             [
              0.2222222222222222,
              "#7201a8"
             ],
             [
              0.3333333333333333,
              "#9c179e"
             ],
             [
              0.4444444444444444,
              "#bd3786"
             ],
             [
              0.5555555555555556,
              "#d8576b"
             ],
             [
              0.6666666666666666,
              "#ed7953"
             ],
             [
              0.7777777777777778,
              "#fb9f3a"
             ],
             [
              0.8888888888888888,
              "#fdca26"
             ],
             [
              1,
              "#f0f921"
             ]
            ],
            "type": "histogram2dcontour"
           }
          ],
          "mesh3d": [
           {
            "colorbar": {
             "outlinewidth": 0,
             "ticks": ""
            },
            "type": "mesh3d"
           }
          ],
          "parcoords": [
           {
            "line": {
             "colorbar": {
              "outlinewidth": 0,
              "ticks": ""
             }
            },
            "type": "parcoords"
           }
          ],
          "pie": [
           {
            "automargin": true,
            "type": "pie"
           }
          ],
          "scatter": [
           {
            "fillpattern": {
             "fillmode": "overlay",
             "size": 10,
             "solidity": 0.2
            },
            "type": "scatter"
           }
          ],
          "scatter3d": [
           {
            "line": {
             "colorbar": {
              "outlinewidth": 0,
              "ticks": ""
             }
            },
            "marker": {
             "colorbar": {
              "outlinewidth": 0,
              "ticks": ""
             }
            },
            "type": "scatter3d"
           }
          ],
          "scattercarpet": [
           {
            "marker": {
             "colorbar": {
              "outlinewidth": 0,
              "ticks": ""
             }
            },
            "type": "scattercarpet"
           }
          ],
          "scattergeo": [
           {
            "marker": {
             "colorbar": {
              "outlinewidth": 0,
              "ticks": ""
             }
            },
            "type": "scattergeo"
           }
          ],
          "scattergl": [
           {
            "marker": {
             "colorbar": {
              "outlinewidth": 0,
              "ticks": ""
             }
            },
            "type": "scattergl"
           }
          ],
          "scattermapbox": [
           {
            "marker": {
             "colorbar": {
              "outlinewidth": 0,
              "ticks": ""
             }
            },
            "type": "scattermapbox"
           }
          ],
          "scatterpolar": [
           {
            "marker": {
             "colorbar": {
              "outlinewidth": 0,
              "ticks": ""
             }
            },
            "type": "scatterpolar"
           }
          ],
          "scatterpolargl": [
           {
            "marker": {
             "colorbar": {
              "outlinewidth": 0,
              "ticks": ""
             }
            },
            "type": "scatterpolargl"
           }
          ],
          "scatterternary": [
           {
            "marker": {
             "colorbar": {
              "outlinewidth": 0,
              "ticks": ""
             }
            },
            "type": "scatterternary"
           }
          ],
          "surface": [
           {
            "colorbar": {
             "outlinewidth": 0,
             "ticks": ""
            },
            "colorscale": [
             [
              0,
              "#0d0887"
             ],
             [
              0.1111111111111111,
              "#46039f"
             ],
             [
              0.2222222222222222,
              "#7201a8"
             ],
             [
              0.3333333333333333,
              "#9c179e"
             ],
             [
              0.4444444444444444,
              "#bd3786"
             ],
             [
              0.5555555555555556,
              "#d8576b"
             ],
             [
              0.6666666666666666,
              "#ed7953"
             ],
             [
              0.7777777777777778,
              "#fb9f3a"
             ],
             [
              0.8888888888888888,
              "#fdca26"
             ],
             [
              1,
              "#f0f921"
             ]
            ],
            "type": "surface"
           }
          ],
          "table": [
           {
            "cells": {
             "fill": {
              "color": "#EBF0F8"
             },
             "line": {
              "color": "white"
             }
            },
            "header": {
             "fill": {
              "color": "#C8D4E3"
             },
             "line": {
              "color": "white"
             }
            },
            "type": "table"
           }
          ]
         },
         "layout": {
          "annotationdefaults": {
           "arrowcolor": "#2a3f5f",
           "arrowhead": 0,
           "arrowwidth": 1
          },
          "autotypenumbers": "strict",
          "coloraxis": {
           "colorbar": {
            "outlinewidth": 0,
            "ticks": ""
           }
          },
          "colorscale": {
           "diverging": [
            [
             0,
             "#8e0152"
            ],
            [
             0.1,
             "#c51b7d"
            ],
            [
             0.2,
             "#de77ae"
            ],
            [
             0.3,
             "#f1b6da"
            ],
            [
             0.4,
             "#fde0ef"
            ],
            [
             0.5,
             "#f7f7f7"
            ],
            [
             0.6,
             "#e6f5d0"
            ],
            [
             0.7,
             "#b8e186"
            ],
            [
             0.8,
             "#7fbc41"
            ],
            [
             0.9,
             "#4d9221"
            ],
            [
             1,
             "#276419"
            ]
           ],
           "sequential": [
            [
             0,
             "#0d0887"
            ],
            [
             0.1111111111111111,
             "#46039f"
            ],
            [
             0.2222222222222222,
             "#7201a8"
            ],
            [
             0.3333333333333333,
             "#9c179e"
            ],
            [
             0.4444444444444444,
             "#bd3786"
            ],
            [
             0.5555555555555556,
             "#d8576b"
            ],
            [
             0.6666666666666666,
             "#ed7953"
            ],
            [
             0.7777777777777778,
             "#fb9f3a"
            ],
            [
             0.8888888888888888,
             "#fdca26"
            ],
            [
             1,
             "#f0f921"
            ]
           ],
           "sequentialminus": [
            [
             0,
             "#0d0887"
            ],
            [
             0.1111111111111111,
             "#46039f"
            ],
            [
             0.2222222222222222,
             "#7201a8"
            ],
            [
             0.3333333333333333,
             "#9c179e"
            ],
            [
             0.4444444444444444,
             "#bd3786"
            ],
            [
             0.5555555555555556,
             "#d8576b"
            ],
            [
             0.6666666666666666,
             "#ed7953"
            ],
            [
             0.7777777777777778,
             "#fb9f3a"
            ],
            [
             0.8888888888888888,
             "#fdca26"
            ],
            [
             1,
             "#f0f921"
            ]
           ]
          },
          "colorway": [
           "#636efa",
           "#EF553B",
           "#00cc96",
           "#ab63fa",
           "#FFA15A",
           "#19d3f3",
           "#FF6692",
           "#B6E880",
           "#FF97FF",
           "#FECB52"
          ],
          "font": {
           "color": "#2a3f5f"
          },
          "geo": {
           "bgcolor": "white",
           "lakecolor": "white",
           "landcolor": "white",
           "showlakes": true,
           "showland": true,
           "subunitcolor": "#C8D4E3"
          },
          "hoverlabel": {
           "align": "left"
          },
          "hovermode": "closest",
          "mapbox": {
           "style": "light"
          },
          "paper_bgcolor": "white",
          "plot_bgcolor": "white",
          "polar": {
           "angularaxis": {
            "gridcolor": "#EBF0F8",
            "linecolor": "#EBF0F8",
            "ticks": ""
           },
           "bgcolor": "white",
           "radialaxis": {
            "gridcolor": "#EBF0F8",
            "linecolor": "#EBF0F8",
            "ticks": ""
           }
          },
          "scene": {
           "xaxis": {
            "backgroundcolor": "white",
            "gridcolor": "#DFE8F3",
            "gridwidth": 2,
            "linecolor": "#EBF0F8",
            "showbackground": true,
            "ticks": "",
            "zerolinecolor": "#EBF0F8"
           },
           "yaxis": {
            "backgroundcolor": "white",
            "gridcolor": "#DFE8F3",
            "gridwidth": 2,
            "linecolor": "#EBF0F8",
            "showbackground": true,
            "ticks": "",
            "zerolinecolor": "#EBF0F8"
           },
           "zaxis": {
            "backgroundcolor": "white",
            "gridcolor": "#DFE8F3",
            "gridwidth": 2,
            "linecolor": "#EBF0F8",
            "showbackground": true,
            "ticks": "",
            "zerolinecolor": "#EBF0F8"
           }
          },
          "shapedefaults": {
           "line": {
            "color": "#2a3f5f"
           }
          },
          "ternary": {
           "aaxis": {
            "gridcolor": "#DFE8F3",
            "linecolor": "#A2B1C6",
            "ticks": ""
           },
           "baxis": {
            "gridcolor": "#DFE8F3",
            "linecolor": "#A2B1C6",
            "ticks": ""
           },
           "bgcolor": "white",
           "caxis": {
            "gridcolor": "#DFE8F3",
            "linecolor": "#A2B1C6",
            "ticks": ""
           }
          },
          "title": {
           "x": 0.05
          },
          "xaxis": {
           "automargin": true,
           "gridcolor": "#EBF0F8",
           "linecolor": "#EBF0F8",
           "ticks": "",
           "title": {
            "standoff": 15
           },
           "zerolinecolor": "#EBF0F8",
           "zerolinewidth": 2
          },
          "yaxis": {
           "automargin": true,
           "gridcolor": "#EBF0F8",
           "linecolor": "#EBF0F8",
           "ticks": "",
           "title": {
            "standoff": 15
           },
           "zerolinecolor": "#EBF0F8",
           "zerolinewidth": 2
          }
         }
        },
        "xaxis": {
         "anchor": "y",
         "domain": [
          0,
          0.48
         ],
         "showticklabels": true,
         "title": {
          "text": "N"
         }
        },
        "xaxis2": {
         "anchor": "y2",
         "domain": [
          0.52,
          1
         ],
         "showticklabels": true,
         "title": {
          "text": "N"
         }
        },
        "xaxis3": {
         "anchor": "y3",
         "domain": [
          0,
          0.48
         ],
         "showticklabels": true
        },
        "xaxis4": {
         "anchor": "y4",
         "domain": [
          0.52,
          1
         ],
         "showticklabels": true
        },
        "yaxis": {
         "anchor": "x",
         "domain": [
          0,
          0.425
         ],
         "showticklabels": true,
         "title": {
          "text": "Tempo (s)"
         }
        },
        "yaxis2": {
         "anchor": "x2",
         "domain": [
          0,
          0.425
         ],
         "showticklabels": true,
         "title": {
          "text": ""
         }
        },
        "yaxis3": {
         "anchor": "x3",
         "domain": [
          0.575,
          1
         ],
         "showticklabels": true,
         "title": {
          "text": ""
         }
        },
        "yaxis4": {
         "anchor": "x4",
         "domain": [
          0.575,
          1
         ],
         "showticklabels": true,
         "title": {
          "text": ""
         }
        }
       }
      }
     },
     "metadata": {},
     "output_type": "display_data"
    }
   ],
   "source": [
    "graph_line(df2, x='N', y='Tempo (s)', vcolor='Algoritmo',\n",
    "           facet_col='Operação', row_spacing=.15)\n"
   ]
  }
 ],
 "metadata": {
  "kernelspec": {
   "display_name": "Python 3.8.10 64-bit",
   "language": "python",
   "name": "python3"
  },
  "language_info": {
   "codemirror_mode": {
    "name": "ipython",
    "version": 3
   },
   "file_extension": ".py",
   "mimetype": "text/x-python",
   "name": "python",
   "nbconvert_exporter": "python",
   "pygments_lexer": "ipython3",
   "version": "3.8.10"
  },
  "orig_nbformat": 4,
  "vscode": {
   "interpreter": {
    "hash": "31f2aee4e71d21fbe5cf8b01ff0e069b9275f58929596ceb00d14d90e3e16cd6"
   }
  }
 },
 "nbformat": 4,
 "nbformat_minor": 2
}
